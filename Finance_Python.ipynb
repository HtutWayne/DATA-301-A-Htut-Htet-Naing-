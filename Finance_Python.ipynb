{
 "cells": [
  {
   "cell_type": "markdown",
   "id": "c912d377-c300-4049-a25d-ae873525032d",
   "metadata": {},
   "source": [
    "### Growth and rate of return\r\n",
    "Growth and Rate of Return are two concepts that are ubiquitous throughout the financial world. Recall that the cumulative returns from investing $100 in an asset that grows at 5% per year, over a 2 year period can be calculated as\n",
    "100*(1+0.05)^2:\r\n",
    "\r\n"
   ]
  },
  {
   "cell_type": "code",
   "execution_count": 7,
   "id": "7b2676ca-a877-4d14-9fe5-a3e854177117",
   "metadata": {},
   "outputs": [
    {
     "name": "stdout",
     "output_type": "stream",
     "text": [
      "Future Value of Investment: 574.35\n"
     ]
    }
   ],
   "source": [
    "\"\"\" \n",
    "eg. Calculate the future value (cumulative return) of a $100 investment which grows at a rate of 6% per year \n",
    "for 30 years in a row and assign it to future_value.\n",
    "\"\"\"\n",
    "# Calculate the future value of the investment and print it out\n",
    "\n",
    "future_value = 100*(1+0.06)**30\n",
    "\n",
    "print(\n",
    "    \"Future Value of Investment: \" + str(round(\n",
    "        future_value, 2))\n",
    ")"
   ]
  },
  {
   "cell_type": "markdown",
   "id": "486fa175-bc50-4a79-a19e-27e57b095643",
   "metadata": {},
   "source": [
    "### Compound interest\r\n",
    "As you saw in the previous exercise, both time and the rate of return are very important variables when forecasting the future value of an investment.\r\n",
    "\r\n",
    "Another important variable is the number of compounding periods, which can greatly affect compounded returns over time."
   ]
  },
  {
   "cell_type": "code",
   "execution_count": 8,
   "id": "928d76e0-1af9-4c03-9ad4-b461b31002ab",
   "metadata": {},
   "outputs": [
    {
     "name": "stdout",
     "output_type": "stream",
     "text": [
      "Investment 1: 574.35\n"
     ]
    }
   ],
   "source": [
    "\"\"\"\n",
    "Calculate the value of a $100 investment which grows at a rate of 6% per year for 30 years in a row compounded once per year \n",
    "and assign it to investment_1.\n",
    "\"\"\"\n",
    "# Predefined variables\n",
    "\n",
    "initial_investment = 100\n",
    "growth_periods = 30\n",
    "growth_rate = 0.06\n",
    "\n",
    "# Calculate the value for the investment compounded once per year\n",
    "\n",
    "compound_periods_1 = 1\n",
    "\n",
    "investment_1 = (initial_investment) * (1+growth_rate) ** growth_periods\n",
    "\n",
    "print(\n",
    "    \"Investment 1: \" + str(round(\n",
    "        investment_1, 2))\n",
    ")"
   ]
  },
  {
   "cell_type": "markdown",
   "id": "b7e01313-5d68-4d12-8ae9-e6116815517c",
   "metadata": {},
   "source": [
    "### Discount factors and depreciation\n",
    "Unfortunately, not everything grows in value over time.\n",
    "\n",
    "In fact, many assets depreciate, or lose value over time. To simulate this, you can simply assume a negative expected rate of return.\n",
    "\n",
    "Example:\n",
    "\n",
    "Calculate the final depreciated value of an initially $10,000 car which declines in value by 3% per year for 10 years:\n",
    "\n",
    "$ 10,000 * (1+ -0.03)^(10) = $ 7374.24"
   ]
  },
  {
   "cell_type": "code",
   "execution_count": 9,
   "id": "da195097-6f76-460f-84c7-fffac4bd19ad",
   "metadata": {},
   "outputs": [
    {
     "name": "stdout",
     "output_type": "stream",
     "text": [
      "Future value:59.87\n"
     ]
    }
   ],
   "source": [
    "\"\"\" \n",
    "Calculate the future value of a $100 investment that depreciates in value by 5% per year for 10 years and assign it to future_value.\n",
    "\"\"\"\n",
    "# Calculate the future value\n",
    "initial_investment = 100\n",
    "\n",
    "growth_rate = -0.05\n",
    "\n",
    "growth_periods = 10\n",
    "\n",
    "future_value = 100*(\n",
    "    1+(-0.05)\n",
    "    )**10\n",
    "\n",
    "print(\n",
    "    \"Future value:\" + str(\n",
    "        round(future_value,2)\n",
    "        )\n",
    ")"
   ]
  },
  {
   "cell_type": "markdown",
   "id": "8795f436-3217-408b-b324-a07ca46ec5bc",
   "metadata": {},
   "source": [
    "## Present value\n",
    "\n",
    "### Need Numpy Financial Library\n",
    "Luckily for you, there is a module called numpy which contains many functions which will make your life much easier when working with financial values.\n",
    "\n",
    "The .pv(rate, nper, pmt, fv) function, for example, allows you to calculate the present value of an investment as before with a few simple parameters:\n",
    "\n",
    "rate: The rate of return of the investment\n",
    "nper: The lifespan of the investment\n",
    "pmt: The (fixed) payment at the beginning or end of each period (which is 0 in our example)\n",
    "fv: The future value of the investment\n",
    "You can use this formula in many ways. For example, you can calculate the present value of future investments in today's dollars."
   ]
  },
  {
   "cell_type": "code",
   "execution_count": 10,
   "id": "944b287e-c502-4253-817d-bd27ec6d2b17",
   "metadata": {},
   "outputs": [
    {
     "name": "stdout",
     "output_type": "stream",
     "text": [
      "Investment 1 is worth 6418.62 in today's dollars\n",
      "Investment 2 is worth 6139.13 in today's dollars\n"
     ]
    }
   ],
   "source": [
    "\"\"\"\n",
    "Using NumPy's .pv() function, compute the present value of an investment which will yield $10,000 15 years from now \n",
    "at an inflation rate of 3% per year and assign it to investment_1.\n",
    "\n",
    "Compute the present value of the same investment, but with a time horizon of only 10 years and an inflation rate of 5%, \n",
    "assigning it to investment_2.\n",
    "\"\"\"\n",
    "import numpy_financial as npf # Need Numpy financial library\n",
    "\n",
    "# Calculate investment_1\n",
    "investment_1 = npf.pv(rate=0.03, nper=15, pmt=0, fv=10000)\n",
    "\n",
    "# Note that the present value returned is negative, so we multiply the result by -1\n",
    "\n",
    "print(\n",
    "    \"Investment 1 is worth \" + \n",
    "    str(round(-investment_1, 2)) + \" in today's dollars\"\n",
    ")\n",
    "\n",
    "\n",
    "# Calculate investment_2\n",
    "investment_2 = npf.pv(rate = 0.05, nper=10, pmt=0, fv=10000)\n",
    "\n",
    "print(\n",
    "    \"Investment 2 is worth \" + \n",
    "    str(round(-investment_2, 2)) + \" in today's dollars\"\n",
    ")"
   ]
  },
  {
   "cell_type": "markdown",
   "id": "a007e256-2de1-4461-b203-4bf58d29d5e3",
   "metadata": {},
   "source": [
    "## Future value\n",
    "\r\n",
    "The numpy module also contains a similar function, .fv(rate, nper, pmt, pv), which allows you to calculate the future value of an investment as before with a few simple parameters:\r\n",
    "\r\n",
    "rate: The rate of return of the investment\r\n",
    "nper: The lifespan of the investment\r\n",
    "pmt: The (fixed) payment at the beginning or end of each period (which is 0 in our example)\r\n",
    "pv: The present value of the investment\r\n",
    "It is important to note that in this function call, you must pass a negative value into the pv parameter if it represents a negative cash flow (cash going out). In other words, if you were to compute the future value of an investment, requiring an up-front cash payment, you would need to pass a negative value to the pv parameter in the .fv() function."
   ]
  },
  {
   "cell_type": "code",
   "execution_count": 11,
   "id": "6558c3fd-6b21-46b6-9baa-a9a58b97aea5",
   "metadata": {},
   "outputs": [
    {
     "name": "stdout",
     "output_type": "stream",
     "text": [
      "Investment 1 will yield a total of $20789.28 in 15 years\n",
      "Investment 2 will yield a total of $31721.69 in 15 years\n",
      "no decimal value for investment_2: 31722\n"
     ]
    }
   ],
   "source": [
    "\"\"\"\n",
    "Using NumPy's .fv() function, calculate the future value of a $10,000 investment returning 5% per year for 15 years and assign it to investment_1.\n",
    "\n",
    "Calculate the future value of a $10,000 investment returning 8% per year for 15 years and assign it to investment_2.\n",
    "\n",
    "\"\"\"\n",
    "import numpy_financial as npf\n",
    "\n",
    "# Calculate investment_1\n",
    "\n",
    "investment_1 = npf.fv(rate=0.05, nper=15, pmt=0, pv=-10000)\n",
    "print(\n",
    "    \"Investment 1 will yield a total of $\" + \n",
    "    str(round(investment_1, 2)) + \" in 15 years\"\n",
    ")\n",
    "\n",
    "# Calculate investment_2\n",
    "investment_2 = npf.fv(rate=0.08, nper=15, pmt=0, pv=-10000)\n",
    "print(\n",
    "    \"Investment 2 will yield a total of $\" + \n",
    "    str(round(investment_2, 2)) + \" in 15 years\"\n",
    ")\n",
    "print( \"no decimal value for investment_2:\", \n",
    "      str(round(\n",
    "    investment_2))\n",
    "     )"
   ]
  },
  {
   "cell_type": "markdown",
   "id": "bef5e329-535d-402d-8c22-72cf32aa9d58",
   "metadata": {},
   "source": [
    "### Adjusting future values for inflation\n",
    "You can now put together what you learned in the previous exercises by following a simple methodology:\n",
    "\n",
    "First, forecast the future value of an investment given a rate of return.\n",
    "Second, discount the future value of the investment by a projected inflation rate.\n",
    "The methodology above will use both the .fv() and .pv() functions to arrive at the projected value of a given investment in today's dollars, adjusted for inflation."
   ]
  },
  {
   "cell_type": "code",
   "execution_count": 12,
   "id": "160e1f77-e9d2-471b-99ed-d0d8a0957b03",
   "metadata": {},
   "outputs": [
    {
     "name": "stdout",
     "output_type": "stream",
     "text": [
      "Investment 1 will yield a total of $21589.25 in 10 years\n",
      "After adjusting for inflation, investment 1 is worth $16064.43 in today's dollars\n"
     ]
    }
   ],
   "source": [
    "\"\"\"\n",
    "Calculate the future value of a $10,000 investment returning 8% per year for 10 years using .fv() and assign it to investment_1.\n",
    "\n",
    "Calculate the inflation-adjusted present value of investment_1, using an inflation rate of 3% per year and assign it to investment_1_discounted.\n",
    "\"\"\"\n",
    "import numpy_financial as npf\n",
    "\n",
    "# Calculate investment_1\n",
    "\n",
    "investment_1 = npf.fv(rate=0.08, nper=10, pmt=0, pv=-10000)\n",
    "print(\n",
    "    \"Investment 1 will yield a total of $\" + \n",
    "    str(round(investment_1, 2)) + \" in 10 years\"\n",
    ")\n",
    "\n",
    "# Calculate investment_2\n",
    "\n",
    "investment_1_discounted = npf.pv(rate=0.03, nper=10, pmt=0, fv=21589.25)\n",
    "print(\n",
    "    \"After adjusting for inflation, investment 1 is worth $\" + \n",
    "    str(round(-investment_1_discounted, 2)) + \" in today's dollars\"\n",
    ")"
   ]
  },
  {
   "cell_type": "code",
   "execution_count": 13,
   "id": "7f043d64-e39a-4b91-82f2-442a305fc664",
   "metadata": {},
   "outputs": [
    {
     "name": "stdout",
     "output_type": "stream",
     "text": [
      "[200 400 600]\n"
     ]
    }
   ],
   "source": [
    "# Array Numpy practice and revision\n",
    "\n",
    "import numpy as np\n",
    "array_1 = np.array([100, 200, 300])\n",
    "print(array_1*2)"
   ]
  },
  {
   "cell_type": "markdown",
   "id": "41dc0530-c9d8-4220-9d8c-f898a53d8829",
   "metadata": {},
   "source": [
    "### Net Present Value (NPV) - making all years' values into present value to compare\n",
    "\n",
    "Net present value of 2 projects that generate different cashflows from year 0,1,2,3,4 and compare which project performs better, \n",
    "so we need Present Value (pv) or Future Value (fv) to know their worth because cashflows are in different time (different years)"
   ]
  },
  {
   "cell_type": "markdown",
   "id": "9cfb5c1d-5f30-4748-8f06-76076ad6d56b",
   "metadata": {},
   "source": [
    "## Cash Flows\n",
    "\n",
    "### use numpy arrays because of many Cashflows for multiple years\n",
    "\n",
    "## use: npf.npv(rate, values)"
   ]
  },
  {
   "cell_type": "code",
   "execution_count": 14,
   "id": "2e76d64d-6785-4d64-87a0-316471e105de",
   "metadata": {},
   "outputs": [
    {
     "name": "stdout",
     "output_type": "stream",
     "text": [
      "407.67\n"
     ]
    }
   ],
   "source": [
    "# for project 1\n",
    "\n",
    "import numpy_financial as npf\n",
    "npv_project_1 = npf.npv(rate = 0.03, \n",
    "                         values = np.array([-100,100,125,150,175])\n",
    "                        )\n",
    "\n",
    "print(str(round(npv_project_1,2)))"
   ]
  },
  {
   "cell_type": "code",
   "execution_count": 15,
   "id": "a0d11a08-4eb0-4f00-ac9d-1254375c6574",
   "metadata": {},
   "outputs": [
    {
     "name": "stdout",
     "output_type": "stream",
     "text": [
      "552.4022339727399\n"
     ]
    }
   ],
   "source": [
    "# for project 2\n",
    "\n",
    "import numpy_financial as npf\n",
    "npv_project_2 = npf.npv(rate = 0.03, \n",
    "                         values = np.array([100,100,-100,200,300])\n",
    "                        )\n",
    "\n",
    "print(npv_project_2)"
   ]
  },
  {
   "cell_type": "code",
   "execution_count": 16,
   "id": "cf52b170-4577-4dfe-b1c0-9d82fdd4bfce",
   "metadata": {},
   "outputs": [
    {
     "name": "stdout",
     "output_type": "stream",
     "text": [
      "Investment 1's net present value is $471.71 in today's dollars\n",
      "Investment 2's net present value is $454.6 in today's dollars\n",
      "Investment 3's net present value is $438.72 in today's dollars\n"
     ]
    }
   ],
   "source": [
    "\"\"\"\n",
    "Calculate the net present value of the investment with cash_flows at a discount rate of 3% per year, and assign it to investment_1.\n",
    "Repeat the process with a discount rate of 5% per year, and assign it to investment_2.\n",
    "Repeat the process with a discount rate of 7% per year, and assign it to investment_3.\n",
    "\"\"\"\n",
    "import numpy_financial as npf\n",
    "import numpy as np\n",
    "\n",
    "# Predefined array of cash flows\n",
    "cash_flows = np.array([100, 100, 100, 100, 100])\n",
    "\n",
    "# Calculate investment_1\n",
    "investment_1 = npf.npv(rate=0.03, values=cash_flows)\n",
    "print(\"Investment 1's net present value is $\" + str(round(\n",
    "    investment_1, 2)) + \" in today's dollars\")\n",
    "\n",
    "# Calculate investment_2\n",
    "investment_2 = npf.npv(rate=0.05, values=cash_flows)\n",
    "print(\"Investment 2's net present value is $\" + str(round(\n",
    "    investment_2, 2)) + \" in today's dollars\")\n",
    "\n",
    "# Calculate investment_3\n",
    "investment_3 = npf.npv(rate=0.07, values=cash_flows)\n",
    "print(\"Investment 3's net present value is $\" + \n",
    "      str(round(\n",
    "    investment_3, 2)) + \" in today's dollars\")"
   ]
  },
  {
   "cell_type": "code",
   "execution_count": 17,
   "id": "db538288-7361-442e-bab4-7f4be8463965",
   "metadata": {},
   "outputs": [
    {
     "name": "stdout",
     "output_type": "stream",
     "text": [
      "The Net Present Value of Investment 1 is worth $665.54 in today's dollars\n",
      "The Net Present Value of Investment 2 is worth $346.7 in today's dollars\n"
     ]
    }
   ],
   "source": [
    "\"\"\"\n",
    "Create a numpy array of the cash flow values for project 1, assigning it to cash_flows_1, and then \n",
    "do the same for project 2, assigning the values to cash_flows_2.\n",
    "Calculate the net present value of both projects 1 and 2 assuming a 3% inflation rate.\n",
    "\"\"\"\n",
    "\n",
    "import numpy as np\n",
    "import numpy_financial as npf\n",
    "\n",
    "# Create an array of cash flows for project 1\n",
    "cash_flows_1 = np.array(\n",
    "    [-250,100,200,300,400]\n",
    ")\n",
    "\n",
    "# Create an array of cash flows for project 2\n",
    "cash_flows_2 = np.array(\n",
    "    [-250, 300, -250, 300, 300]\n",
    ")\n",
    "\n",
    "# Calculate the net present value of project 1\n",
    "investment_1 = npf.npv(rate=0.03, \n",
    "                       values=cash_flows_1)\n",
    "\n",
    "print(\"The Net Present Value of Investment 1 is worth $\" + str(round(\n",
    "    investment_1, 2)) + \" in today's dollars\")\n",
    "\n",
    "\n",
    "# Calculate the net present value of project 2\n",
    "investment_2 = npf.npv(rate=0.03, \n",
    "                       values=cash_flows_2)\n",
    "\n",
    "print(\"The Net Present Value of Investment 2 is worth $\" + str(round(\n",
    "    investment_2, 2)) + \" in today's dollars\")"
   ]
  },
  {
   "cell_type": "markdown",
   "id": "9368726b-10fb-4f68-9883-f86e584968f1",
   "metadata": {},
   "source": [
    "### Diminishing cash flows\n",
    "\r\n",
    "Remember how compounded returns grow rapidly over time? Well, it works in the reverse, too.\n",
    " Compounded discount factors over time will quickly shrink a number towards zero.\r\n",
    "\r\n",
    "For example, $100 at a 3% annual discount for 1 year is still worth roughly $97.\n",
    "\n",
    "Value / (1+Discount Rate)^Discount Periods =  $ 100/(1+0.03)^1 = $ 97.08\n",
    "\n",
    "But this number shrinks quite rapidly as the number of discounting periods increases:\r\n",
    "\n",
    "$ 100/(1+0.03)^5 = $ 86.26\n",
    "\n",
    "$ 100/(1+0.03)^10 = $ 74.41\n",
    "\n",
    "This means that the longer in the future your cash flows will be received (or paid), the close to 0 that number will be.\n",
    " \r\n",
    "08:"
   ]
  },
  {
   "cell_type": "code",
   "execution_count": 18,
   "id": "dc0bf762-a0de-4475-8f49-c26a35fafe2c",
   "metadata": {},
   "outputs": [
    {
     "name": "stdout",
     "output_type": "stream",
     "text": [
      "Investment 1 is worth $41.2 in today's dollars\n",
      "Investment 2 is worth $22.81 in today's dollars\n",
      "Investment 3 is worth $5.2 in today's dollars\n"
     ]
    }
   ],
   "source": [
    "\"\"\"\n",
    "Calculate the present value of a single $100 payment received 30 years from now with an annual inflation rate of 3%, \n",
    "and assign it to investment_1.\n",
    "\n",
    "Calculate the present value of the same payment, but if it was received 50 and 100 years from now, \n",
    "and assign it to investment_2 and investment_3 respectively.\n",
    "\"\"\"\n",
    "import numpy_financial as npf\n",
    "\n",
    "# Calculate investment_1\n",
    "investment_1 = npf.pv(rate=0.03, nper=30, pmt=0, fv=100)\n",
    "print(\"Investment 1 is worth $\" + str(round(-investment_1, 2)) + \" in today's dollars\")\n",
    "\n",
    "# Calculate investment_2\n",
    "investment_2 = npf.pv(rate=0.03, nper=50, pmt=0, fv=100)\n",
    "print(\"Investment 2 is worth $\" + str(round(-investment_2, 2)) + \" in today's dollars\")\n",
    "\n",
    "# Calculate investment_3\n",
    "investment_3 = npf.pv(rate=0.03, nper=100, pmt=0, fv=100)\n",
    "print(\"Investment 3 is worth $\" + str(round(-investment_3, 2)) + \" in today's dollars\")\n"
   ]
  },
  {
   "cell_type": "code",
   "execution_count": 19,
   "id": "0b6e54b7-c4f8-42f4-88f7-4057b780b9a3",
   "metadata": {},
   "outputs": [
    {
     "name": "stdout",
     "output_type": "stream",
     "text": [
      "project 1: [-1000   200   250   300   350   400   450   500   550   600] \n",
      " project 2: [-1000   150   225   300   375   425   500   575   600   625]\n"
     ]
    }
   ],
   "source": [
    "import numpy as np\n",
    "\n",
    "# Create a numpy array of cash flows for Project 1\n",
    "cf_project_1 = np.array([-1000, 200, 250, 300, 350, 400, 450, 500, 550, 600])\n",
    "\n",
    "# Create a numpy array of cash flows for Project 2\n",
    "cf_project_2 = np.array([-1000, 150, 225, 300, 375, 425, 500, 575, 600, 625])\n",
    "\n",
    "# Scale the original objects by 1000x\n",
    "cf_project1 = cf_project_1 * 1000\n",
    "cf_project2 = cf_project_2 * 1000\n",
    "\n",
    "print(\"project 1:\", cf_project_1, '\\n', \"project 2:\", cf_project_2)"
   ]
  },
  {
   "cell_type": "markdown",
   "id": "db686090-cde2-4cd7-95da-ee91156aec09",
   "metadata": {},
   "source": [
    "# Internal Rate of Return\n",
    "Now that you have the cash flow projections ready to go for each project, you want to compare the internal rate of return (IRR) of each project to help you decide which project would be most beneficial for your company in terms of yield (rate of return). \n",
    "\n",
    "In this exercise, you will calculate the internal rate of return for each project using np.irr(values).\n",
    "\n",
    "The cash flows for projects 1 and 2 are available as cf_project1 and cf_project2."
   ]
  },
  {
   "cell_type": "code",
   "execution_count": 20,
   "id": "1e1adf35-0243-4f51-9d92-f0f57d402d4c",
   "metadata": {},
   "outputs": [
    {
     "name": "stdout",
     "output_type": "stream",
     "text": [
      "Project 1 IRR: 28.92%\n",
      "Project 2 IRR: 28.78%\n"
     ]
    }
   ],
   "source": [
    "\"\"\"\n",
    "Set the internal rate of return for Project 1 equal to irr_project1.\n",
    "Set the internal rate of return for Project 2 equal to irr_project2.\n",
    "\"\"\"\n",
    "\n",
    "import numpy_financial as npf\n",
    "\n",
    "# Calculate the internal rate of return for Project 1\n",
    "irr_project1 = npf.irr(cf_project1)\n",
    "print(\"Project 1 IRR: \" + str(round(100*irr_project1, 2)) + \"%\")\n",
    "\n",
    "# Calculate the internal rate of return for Project 2\n",
    "irr_project2 = npf.irr(cf_project2)\n",
    "print(\"Project 2 IRR: \" + str(round(100*irr_project2, 2)) + \"%\")"
   ]
  },
  {
   "cell_type": "markdown",
   "id": "3f961863-7b2a-4331-9014-41a3b3311e95",
   "metadata": {},
   "source": [
    "### Debt and equity financing\r\n",
    "In the previous chapter, you were able to assume that your discount rate for the NPV calculation was solely based on a measure such as inflation.\r\n",
    "\r\n",
    "However, in this chapter, you are the CEO of a new company that has outstanding debt and financing costs, which you will have to adjust for.\r\n",
    "\r\n",
    "You will use the WACC as your discount rate in upcoming exercises.\r\n",
    "\r\n",
    "For this exercise, assume you take out a $1,000,000 loan to finance the project, which will be your company's only outstanding debt. This loan will represent 50% of your company's total financing of $2,000,000. The remaining funding comes from the market value of equity."
   ]
  },
  {
   "cell_type": "code",
   "execution_count": 21,
   "id": "fa4b28b9-2266-4a84-ac9e-997e8972f266",
   "metadata": {},
   "outputs": [
    {
     "name": "stdout",
     "output_type": "stream",
     "text": [
      "Debt Financing: 50.0%\n",
      "Equity Financing: 50.0%\n"
     ]
    }
   ],
   "source": [
    "# Set the market value of debt\n",
    "mval_debt = 1000000\n",
    "\n",
    "# Set the market value of equity\n",
    "mval_equity = 1000000\n",
    "\n",
    "# Compute the total market value of your company's financing\n",
    "mval_total = mval_debt + mval_equity\n",
    "\n",
    "# Compute the proportion of your company's financing via debt\n",
    "percent_debt = mval_debt/mval_total\n",
    "print(\"Debt Financing: \" + str(round(100*percent_debt, 2)) + \"%\")\n",
    "\n",
    "# Compute the proportion of your company's financing via equity\n",
    "percent_equity = mval_equity/mval_total\n",
    "print(\"Equity Financing: \" + str(round(100*percent_equity, 2)) + \"%\")"
   ]
  },
  {
   "cell_type": "markdown",
   "id": "87ded03d-a476-4243-8ac8-59e1b5b08c3d",
   "metadata": {},
   "source": [
    "### Calculating WACC\r\n",
    "In addition to determining the proportion of both equity and debt financing, you will need to estimate the cost of financing via both debt and equity in order to estimate your WACC.\r\n",
    "\r\n",
    "The cost of debt financing can be estimated as the amount you will have to pay on a new loan. This can be estimated by looking at the interest rates of loans of similar sizes to similar companies, or could be based on previous loans your company may already have been issued.\r\n",
    "\r\n",
    "The cost of equity financing can be estimated as the return on equity of similar companies. Calculating the return on equity is a simple accounting exercise, but all you need to know is that essentially, investors will require a rate of return that is close to what could be earned by a similar investment."
   ]
  },
  {
   "cell_type": "code",
   "execution_count": 22,
   "id": "95195d31-f5a0-4c0b-b040-bf581d4f92b3",
   "metadata": {},
   "outputs": [
    {
     "name": "stdout",
     "output_type": "stream",
     "text": [
      "WACC: 12.9%\n"
     ]
    }
   ],
   "source": [
    "# The proportion of debt vs equity financing is predefined\n",
    "percent_debt = 0.50\n",
    "percent_equity = 0.50\n",
    "\n",
    "# Set the cost of equity\n",
    "cost_equity = 0.18\n",
    "\n",
    "# Set the cost of debt\n",
    "cost_debt = 0.12\n",
    "\n",
    "# Set the corporate tax rate\n",
    "tax_rate = 0.35\n",
    "\n",
    "# Calculate the WACC\n",
    "wacc = (percent_equity* cost_equity) + (percent_debt * cost_debt)*(1-tax_rate)\n",
    "print(\"WACC: \" + str(round(100*wacc, 2)) + \"%\")"
   ]
  },
  {
   "cell_type": "markdown",
   "id": "f319b2fe-dae8-4197-ab64-ab6ef8b0e81b",
   "metadata": {},
   "source": [
    "### Comparing project NPV with IRR\n",
    "Companies use their WACC as the discount rate when calculating the net present value of potential projects.\n",
    "\n",
    "In the same way that you discounted values by inflation in the previous chapter to account for costs over time, companies adjust the cash flows of potential projects by their cost of financing (the WACC) to account for their investor's required rate of return based on market conditions.\n",
    "\n",
    "Now that you calculated the WACC, you can determine the net present value (NPV) of each project's cash flows. The cash flows for projects 1 and 2 are available as cf_project1 and cf_project2."
   ]
  },
  {
   "cell_type": "code",
   "execution_count": 23,
   "id": "4b0e9ae3-8f74-47d6-9e0c-0115aa50eb01",
   "metadata": {},
   "outputs": [
    {
     "name": "stdout",
     "output_type": "stream",
     "text": [
      "Project 1 NPV: 856073.18\n",
      "Project 2 NPV: 904741.35\n"
     ]
    }
   ],
   "source": [
    "import numpy_financial as npf\n",
    "\n",
    "# Set your weighted average cost of capital equal to 12.9%\n",
    "wacc = 0.129\n",
    "\n",
    "# Calculate the net present value for Project 1\n",
    "npv_project1 = npf.npv(rate= wacc, values = cf_project1)\n",
    "print(\"Project 1 NPV: \" + str(round(npv_project1, 2)))\n",
    "\n",
    "# Calculate the net present value for Project 2\n",
    "npv_project2 = npf.npv(rate= wacc, values = cf_project2)\n",
    "print(\"Project 2 NPV: \" + str(round(npv_project2, 2)))\n",
    "\n",
    "# So I chose Project 2 which has higher return."
   ]
  },
  {
   "cell_type": "markdown",
   "id": "5f179b27-fa16-401a-b922-8c5f3bfe8fa5",
   "metadata": {},
   "source": [
    "### Calculating the Equivalent Annual Annunity (EAA)"
   ]
  },
  {
   "cell_type": "code",
   "execution_count": 24,
   "id": "7f85935f-dc06-433e-85e5-9d9690d3fd1a",
   "metadata": {},
   "outputs": [
    {
     "name": "stdout",
     "output_type": "stream",
     "text": [
      "Project 1 IRR: 22.94%\n",
      "Project 2 IRR: 26.89%\n",
      "Project 1 NPV: 302744.98\n",
      "Project 2 NPV: 231228.39\n",
      "Project 1 EAA: 62872.2\n",
      "Project 2 EAA: 52120.61\n"
     ]
    }
   ],
   "source": [
    "import numpy as np\n",
    "import numpy_financial as npf\n",
    "\n",
    "# Create a numpy array of cash flows for Project 1\n",
    "cf_project_1 = np.array([-700,100,150,200,250,300,350,400])\n",
    "\n",
    "# Create a numpy array of cash flows for Project 2\n",
    "cf_project_2 = np.array([-400, 50, 100,150,200,250,300])\n",
    "\n",
    "# Scale the original objects by 1000x\n",
    "cf_project1 = cf_project_1 * 1000\n",
    "cf_project2 = cf_project_2 * 1000\n",
    "\n",
    "\n",
    "# Calculate the IRR for Project 1\n",
    "irr_project1 = npf.irr(cf_project1)\n",
    "print(\"Project 1 IRR: \" + str(round(100*irr_project1, 2)) + \"%\")\n",
    "\n",
    "# Calculate the IRR for Project 2\n",
    "irr_project2 = npf.irr(cf_project2)\n",
    "print(\"Project 2 IRR: \" + str(round(100*irr_project2, 2)) + \"%\")\n",
    "\n",
    "# Set the wacc equal to 12.9%\n",
    "wacc = 0.129\n",
    "\n",
    "# Calculate the NPV for Project 1\n",
    "npv_project1 = npf.npv(rate= wacc, values=cf_project1)\n",
    "print(\"Project 1 NPV: \" + str(round(npv_project1, 2)))\n",
    "\n",
    "# Calculate the NPV for Project 2\n",
    "npv_project2 = npf.npv(rate= wacc, values=cf_project2)\n",
    "print(\"Project 2 NPV: \" + str(round(npv_project2, 2)))\n",
    "\n",
    "# below are the given tips for this problem\n",
    "\n",
    "\n",
    "# Calculate the EAA for Project 1\n",
    "eaa_project1 = npf.pmt(rate=wacc, nper=8, pv=-1*npv_project1, fv=0)\n",
    "print(\"Project 1 EAA: \" + str(round(eaa_project1, 2)))\n",
    "\n",
    "# Calculate the EAA for Project 2\n",
    "eaa_project2 = npf.pmt(rate=wacc, nper=7, pv=-1*npv_project2, fv=0)\n",
    "print(\"Project 2 EAA: \" + str(round(eaa_project2, 2)))"
   ]
  },
  {
   "cell_type": "markdown",
   "id": "6b555c68-e003-4fb1-8a8c-72e04a2761d0",
   "metadata": {},
   "source": [
    "Using the equivalent annual annuity approach\n",
    "Since the net present values of each project are not directly comparable given the different lifespans of each project, you will have to consider a different approach.\n",
    "\n",
    "The equivalent annual annuity (EAA) approach allows us to compare two projects by essentially assuming that each project is an investment generating a flat interest rate each year (an annuity), and calculating the annual payment you would receive from each project, discounted to present value.\n",
    "\n",
    "You can compute the EAA of each project using the .pmt(rate, nper, pv, fv) function in numpy.\n",
    "\n",
    "The weighted average cost is available as wacc, and the net present values for projects 1 and 2 are available as npv_project1 and npv_project2."
   ]
  },
  {
   "cell_type": "markdown",
   "id": "d7730b06-8c8a-4cea-bec2-ab47f6b49b25",
   "metadata": {},
   "source": [
    "### Chapter 2 done "
   ]
  },
  {
   "cell_type": "markdown",
   "id": "a6270723-ee17-497c-9d1d-1033d1d386d1",
   "metadata": {},
   "source": [
    "# Chapter 3 Taking out the Mortage"
   ]
  },
  {
   "cell_type": "code",
   "execution_count": 25,
   "id": "0c2df3cb-4dd0-4c71-b93f-6ceae177b481",
   "metadata": {
    "scrolled": true
   },
   "outputs": [
    {
     "name": "stdout",
     "output_type": "stream",
     "text": [
      "Initial Down Payment: 160000.0\n",
      "Mortgage Loan: 640000.0\n",
      "Monthly Mortgage Payment: 2941.13\n",
      "Initial Interest Payment: 1966.43\n",
      "Initial Principal Payment: 974.7\n",
      "Period: 1, Interest: 1966.43, Principal: 974.7, Remaining: [639025.3, 0, 0, 0, 0, 0]\n",
      "Period: 2, Interest: 1963.43, Principal: 977.7, Remaining: [639025.3, 638047.6000000001, 0, 0, 0, 0]\n",
      "Period: 3, Interest: 1960.43, Principal: 980.7, Remaining: [639025.3, 638047.6000000001, 637066.9000000001, 0, 0, 0]\n",
      "Period: 4, Interest: 1957.41, Principal: 983.72, Remaining: [639025.3, 638047.6000000001, 637066.9000000001, 636083.1800000002, 0, 0]\n",
      "Period: 5, Interest: 1954.39, Principal: 986.74, Remaining: [639025.3, 638047.6000000001, 637066.9000000001, 636083.1800000002, 635096.4400000002, 0]\n",
      "Period: 6, Interest: 1951.36, Principal: 989.77, Remaining: [639025.3, 638047.6000000001, 637066.9000000001, 636083.1800000002, 635096.4400000002, 634106.6700000002]\n"
     ]
    }
   ],
   "source": [
    "\"\"\"\n",
    "You're expecting a child soon, and its time to start looking for a home.\n",
    "\n",
    "You're currently living out of an apartment in New York City, but your blossoming career as a Data Scientist has allowed you to save up \n",
    "a sizable sum and purchase a home in neighboring Hoboken, New Jersey.\n",
    "\n",
    "You have decided to purchase a beautiful brownstone home in the $800,000 range. While you do have a considerable amount of cash on hand, \n",
    "you don't have enough to purchase the entire home outright, which means you will have to take the remaining balance out as a mortgage loan. From the sound of it, you'll have to put about 20% down up-front to a mortgage loan of that size.\n",
    "\n",
    "This up-front payment is known as a down payment.\n",
    "\n",
    "\"\"\"\n",
    "import numpy as np\n",
    "\n",
    "# Set the value of the home you are looking to buy\n",
    "home_value = 800000\n",
    "# What percentage are you paying up-front?\n",
    "down_payment_percent = 0.2\n",
    "\n",
    "# Calculate the dollar value of the down payment\n",
    "down_payment = 800000*0.20\n",
    "print(\"Initial Down Payment: \" + str(down_payment))\n",
    "\n",
    "# Calculate the value of the mortgage loan required after the down payment\n",
    "mortgage_loan = home_value-down_payment\n",
    "print(\"Mortgage Loan: \" + str(mortgage_loan))\n",
    "\n",
    "\n",
    "\"\"\"\n",
    "Calculating the monthly mortgage payment\n",
    "In order to make sure you can afford the home, you will have to calculate the monthly mortgage payment you will have to make on a loan that size.\n",
    "\n",
    "Now, since you will be paying a monthly mortgage, you will have to convert each of the parameters into their monthly equivalents. \n",
    "Be careful when adjusting the interest rate, which is compounding!\n",
    "\n",
    "In order to calculate the monthly mortgage payment, you will use the numpy function .pmt(rate, nper, pv) where:\n",
    "\n",
    "rate = The periodic (monthly) interest rate\n",
    "nper = The number of payment periods (months) in the lifespan of the mortgage loan\n",
    "pv = The total value of the mortgage loan\n",
    "You have been given a 30-year mortgage loan quote for your desired amount at 3.75%. The value of the mortgage loan is available as mortgage_loan.\n",
    "\n",
    "The annual mortgage rate is available as mortgage_rate\n",
    "\"\"\"\n",
    "import numpy_financial as npf\n",
    "\n",
    "mortage_rate = 0.0375\n",
    "# Derive the equivalent monthly mortgage rate from the annual rate\n",
    "mortgage_rate_periodic = (1+mortage_rate)**(1/12) - 1\n",
    "\n",
    "# How many monthly payment periods will there be over 30 years?\n",
    "mortgage_payment_periods = 12*30\n",
    "\n",
    "# Calculate the monthly mortgage payment (multiply by -1 to keep it positive)\n",
    "periodic_mortgage_payment = -1*npf.pmt(rate=mortgage_rate_periodic, nper=mortgage_payment_periods, pv=mortgage_loan) \n",
    "\n",
    "# or periodic_mortgage_payment = -1*npf.pmt(mortgage_rate_periodic, mortgage_payment_periods, mortgage_loan)\n",
    "\n",
    "print(\"Monthly Mortgage Payment: \" + str(round(periodic_mortgage_payment, 2)))\n",
    "\n",
    "\"\"\"\n",
    "Calculating interest and principal payments\n",
    "Due to the size of the mortgage loan, you begin the mortgage in the initial period by paying mostly interest and retaining very little principal, \n",
    "or equity that goes towards the ownership of your home.\n",
    "\n",
    "This means that if you were to stop paying your mortgage and sell your home after only a few years, \n",
    "the bank would actually own most of the home because what you paid was mostly interest, and very little principal.\n",
    "\n",
    "mortgage_loan, mortgage_rate_periodic, and periodic_mortgage_payment from the third exercise are available for use.\n",
    "\"\"\"\n",
    "# Calculate the amount of the first loan payment that will go towards interest\n",
    "initial_interest_payment = mortgage_loan * mortgage_rate_periodic\n",
    "print(\"Initial Interest Payment: \" + str(round(initial_interest_payment, 2)))\n",
    "\n",
    "# Calculate the amount of the first loan payment that will go towards principal\n",
    "initial_principal_payment = periodic_mortgage_payment - initial_interest_payment\n",
    "print(\"Initial Principal Payment: \" + str(round(initial_principal_payment, 2)))\n",
    "\n",
    "\"\"\"\n",
    "Simulating periodic payments (I)\n",
    "You have all the tools you'll need to simulate the mortgage payments over time.\n",
    "\n",
    "Every time a mortgage payment is made, the following payment will have a slightly lower percentage, which is used to pay off interest. This means that more of the remainder will go towards the portion of the home that you own instead of the bank. This is important to determine how much you will gain from selling the home before paying off your mortgage, or to determine when your mortgage is underwater. But more on that later.\n",
    "\n",
    "You will now write a simple program to calculate the interest and mortgage portions of each payment over time.\n",
    "\n",
    "The mortgage_loan, mortgage_rate_periodic, and periodic_mortgage_payment variables from the third exercise are available for use.\n",
    "\n",
    "The principal_remaining variable is initialized as an array of 0's with length equal to the number of payment periods.\n",
    "\"\"\"\n",
    "# Loop through each mortgage payment period\n",
    "\n",
    "# disclaimer: PPR and PR lines are directed to each other\n",
    "\n",
    "mortgage_payment_periods = 6 # added myself again\n",
    "principal_remaining = [0] * mortgage_payment_periods  #this is setting variable to 0  (also added myself)\n",
    "\n",
    "def print_payments(period, interest, principal, remaining):  # added myself \n",
    "    print(f\"Period: {period + 1}, Interest: {interest}, Principal: {principal}, Remaining: {remaining}\")\n",
    "\n",
    " \n",
    "for i in range(0, mortgage_payment_periods):\n",
    "    \n",
    "    # Handle the case for the first iteration #this is just the setting not calculating\n",
    "    if i == 0:\n",
    "        previous_principal_remaining = mortgage_loan # this sets previous_principal_remaining[0] and this has value\n",
    "    else:\n",
    "        previous_principal_remaining = principal_remaining[i-1] # just concept, this means ppr is last month's pr (thus, they use i-1, i = current)\n",
    "        # means previous_principal_remaining[1] is principal_remaining [0]\n",
    "        # this sets previous_principal_remaining [1] to [5] \n",
    "        \n",
    "    # Calculate the interest and principal payments\n",
    "    interest_payment = round(previous_principal_remaining*mortgage_rate_periodic, 2)\n",
    "    principal_payment = round(periodic_mortgage_payment - interest_payment, 2)\n",
    "    \n",
    "    # Catch the case where all principal is paid off in the final period\n",
    "    if previous_principal_remaining - principal_payment < 0:\n",
    "        principal_payment = previous_principal_remaining\n",
    "        \n",
    "    # Collect the principal remaining values in an array\n",
    "    principal_remaining[i] = previous_principal_remaining - principal_payment \n",
    "    # this is the real calculation \n",
    "    \"\"\"\n",
    "\n",
    "    this sets \n",
    "    principal_remaining[1] = previous_principal_remaining[0] - principal_payment(fixed)\n",
    "    principal_remaining[2] = previous_principal_remaining[1] - principal_payment(fixed)\n",
    "    principal_remaining[3] = previous_principal_remaining[2] - principal_payment(fixed)\n",
    "    principal_remaining[4] = previous_principal_remaining[3] - principal_payment(fixed)\n",
    "    principal_remaining[5] = previous_principal_remaining[4] - principal_payment(fixed)\n",
    "    \n",
    "    \"\"\"\n",
    "  # Print the payments for the first few periods\n",
    "    print_payments(i, interest_payment, principal_payment, principal_remaining)\n",
    "\n"
   ]
  },
  {
   "cell_type": "markdown",
   "id": "71f03dba-c5c8-4523-8127-a09e952097eb",
   "metadata": {},
   "source": [
    "This is the answer looks like in DataCamp\n",
    "\r\n",
    "    Period 0: Interest Paid: 1966.43 | Principal Paid: 974.7 | Remaining Balance: 639025.3\r\n",
    "    Period 1: Interest Paid: 1963.43 | Principal Paid: 977.7 | Remaining Balance: 638047.6000000001\r\n",
    "    Period 2: Interest Paid: 1960.43 | Principal Paid: 980.7 | Remaining Balance: 637066.9000000001\r\n",
    "    Period 3: Interest Paid: 1957.41 | Principal Paid: 983.72 | Remaining Balance: 636083.1800000002\r\n",
    "    Period 4: Interest Paid: 1954.39 | Principal Paid: 986.74 | Remaining Balance: 635096.4400000002\r\n",
    "    Period 5: Interest Paid: 1951.36 | Principal Paid: 989.77 | Remaining Balance: 634106.6700000002"
   ]
  },
  {
   "cell_type": "code",
   "execution_count": 26,
   "id": "a7523199-82b9-484c-99ce-a3852a6aebb1",
   "metadata": {},
   "outputs": [
    {
     "ename": "NameError",
     "evalue": "name 'interest_paid' is not defined",
     "output_type": "error",
     "traceback": [
      "\u001b[1;31m---------------------------------------------------------------------------\u001b[0m",
      "\u001b[1;31mNameError\u001b[0m                                 Traceback (most recent call last)",
      "Cell \u001b[1;32mIn[26], line 19\u001b[0m\n\u001b[0;32m     16\u001b[0m     principal_payment \u001b[38;5;241m=\u001b[39m previous_principal_remaining\n\u001b[0;32m     18\u001b[0m \u001b[38;5;66;03m# Collect the historical values\u001b[39;00m\n\u001b[1;32m---> 19\u001b[0m \u001b[43minterest_paid\u001b[49m[i] \u001b[38;5;241m=\u001b[39m interest_payment\n\u001b[0;32m     20\u001b[0m principal_paid[i] \u001b[38;5;241m=\u001b[39m principal_payment\n\u001b[0;32m     21\u001b[0m principal_remaining[i] \u001b[38;5;241m=\u001b[39m previous_principal_remaining \u001b[38;5;241m-\u001b[39m principal_payment\n",
      "\u001b[1;31mNameError\u001b[0m: name 'interest_paid' is not defined"
     ]
    }
   ],
   "source": [
    "# Loop through each mortgage payment period\n",
    "for i in range(0, mortgage_payment_periods):\n",
    "    \n",
    "    # Handle the case for the first iteration\n",
    "    if i == 0:\n",
    "        previous_principal_remaining = mortgage_loan\n",
    "    else:\n",
    "        previous_principal_remaining = principal_remaining[i-1]\n",
    "        \n",
    "    # Calculate the interest based on the previous principal\n",
    "    interest_payment = round(previous_principal_remaining*mortgage_rate_periodic, 2)\n",
    "    principal_payment = round(periodic_mortgage_payment - interest_payment, 2)\n",
    "    \n",
    "    # Catch the case where all principal is paid off in the final period\n",
    "    if previous_principal_remaining - principal_payment < 0:\n",
    "        principal_payment = previous_principal_remaining\n",
    "        \n",
    "    # Collect the historical values\n",
    "    interest_paid[i] = interest_payment\n",
    "    principal_paid[i] = principal_payment\n",
    "    principal_remaining[i] = previous_principal_remaining - principal_payment\n",
    "    \n",
    "# Plot the interest vs principal\n",
    "plt.plot(interest_paid, color=\"red\")\n",
    "plt.plot(principal_paid, color=\"blue\")\n",
    "plt.legend(handles=[interest_plot, principal_plot], loc=2)\n",
    "plt.show()"
   ]
  },
  {
   "cell_type": "markdown",
   "id": "0ae04bfd-cb3b-44c3-b0cb-63fc6ace16e4",
   "metadata": {},
   "source": [
    "### Cumulative things ( Cumulative Sum or Cumulative Product )"
   ]
  },
  {
   "cell_type": "code",
   "execution_count": null,
   "id": "031a1a9a-6439-44d8-bd2c-1b73c4554011",
   "metadata": {},
   "outputs": [],
   "source": [
    "import numpy as np\n",
    "np.cumprod (1+np.array([0.03,0.03,0.05]))"
   ]
  },
  {
   "cell_type": "code",
   "execution_count": null,
   "id": "a24ff19a-7aa0-45b8-8a90-cc0a67312040",
   "metadata": {},
   "outputs": [],
   "source": [
    "\"\"\"\n",
    "Cumulative payments and home equity\n",
    "You are faithfully paying your mortgage each month, but it's difficult to tell how much of the house you actually own and \n",
    "ow much interest you have paid in total over the years.\n",
    "\n",
    "Use np.cumsum() to add up all the interest payments and also to add up all the principal payments over time to see \n",
    "how your ownership changes over time.\n",
    "\n",
    "Recall that np.cumsum() performs a cumulative sum over time. Return a series of iterative sums instead of just a single number.\n",
    "\n",
    "principal_paid, interest_paid, home_value and down_payment_percent from the previous exercise are available.\n",
    "\"\"\"\n",
    "import numpy as np\n",
    "\n",
    "# Calculate the cumulative home equity (principal) over time\n",
    "cumulative_home_equity = np.cumsum(principal_paid)\n",
    "\n",
    "# Calculate the cumulative interest paid over time\n",
    "cumulative_interest_paid = np.cumsum(interest_paid)\n",
    "# Calculate your percentage home equity over time\n",
    "cumulative_percent_owned = down_payment_percent + (cumulative_home_equity/home_value)\n",
    "print(cumulative_percent_owned)\n",
    "\n",
    "# Plot the cumulative interest paid vs equity accumulated\n",
    "plt.plot(cumulative_interest_paid, color='red')\n",
    "plt.plot(cumulative_home_equity, color='blue')\n",
    "plt.legend(handles=[interest_plot, principal_plot], loc=2)\n",
    "plt.show()"
   ]
  },
  {
   "cell_type": "code",
   "execution_count": null,
   "id": "5f2c43c0-01a4-4a92-9260-9695d9b9078f",
   "metadata": {},
   "outputs": [],
   "source": [
    "\"\"\"\n",
    "Rising housing prices\n",
    "Home values have been rising steadily each year, and this is a rather large investment for you.\n",
    "\n",
    "Calculate your home equity value over time given a steady growth rate of 0.25% per month. \n",
    "A repeated array of this growth rate (with a length equal to the number of mortgage payment periods) is already stored \n",
    "for you in an object called growth_array.\n",
    "\n",
    "The home_value and cumulative_percent_owned variables from the previous exercise are available.\n",
    "\"\"\"\n",
    "import numpy as np\n",
    "\n",
    "# Calculate the cumulative growth over time\n",
    "cumulative_growth_forecast = np.cumprod(1+(growth_array))\n",
    "\n",
    "# Forecast the home value over time\n",
    "home_value_forecast = (home_value * cumulative_growth_forecast)\n",
    "\n",
    "# Forecast the home equity value owned over time\n",
    "cumulative_home_value_owned = home_value_forecast * cumulative_percent_owned\n",
    "\n",
    "# Plot the home value vs equity accumulated\n",
    "plt.plot(home_value_forecast, color='red')\n",
    "plt.plot(cumulative_home_value_owned, color='blue')\n",
    "plt.legend(handles=[homevalue_plot, homeequity_plot], loc=2)\n",
    "plt.show()"
   ]
  },
  {
   "cell_type": "code",
   "execution_count": null,
   "id": "86cb4983-17f4-4bbb-87a0-ecb21aaf1ec0",
   "metadata": {},
   "outputs": [],
   "source": [
    "\"\"\"\n",
    "Falling housing prices and underwater mortgages\n",
    "Unfortunately, you are also well aware that home prices don't always rise.\n",
    "\n",
    "An underwater mortgage is when the remaining amount you owe on your mortgage is actually higher than the value of the house itself.\n",
    "\n",
    "In this exercise, you will calculate the worst case scenario where home prices drop steadily at the rate of 0.45% per month. \n",
    "To speed things up, the cumulative drop in home prices has already been forecasted and stored for you \n",
    "in a variable called cumulative_decline_forecast, which is an array of multiplicative discount factors compared to today's price \n",
    "- no need to add 1 to the rate array.\n",
    "\n",
    "The outstanding principal on the mortgage is available as principal_remaining.\n",
    "\"\"\"\n",
    "\n",
    "import numpy as np\n",
    "import pandas as pd\n",
    "\n",
    "# Cumulative drop in home value over time as a ratio\n",
    "cumulative_decline_forecast = np.cumprod(1+decline_array)\n",
    "\n",
    "# Forecast the home value over time\n",
    "home_value_forecast = home_value*cumulative_decline_forecast\n",
    "\n",
    "# Find all periods where your mortgage is underwater\n",
    "underwater = principal_remaining > home_value_forecast\n",
    "pd.value_counts(underwater)\n",
    "\n",
    "# Plot the home value vs principal remaining\n",
    "plt.plot(home_value_forecast, color='red')\n",
    "plt.plot(principal_remaining, color='blue')\n",
    "plt.legend(handles=[homevalue_plot, principal_plot], loc=2)\n",
    "plt.show()"
   ]
  },
  {
   "cell_type": "markdown",
   "id": "b9653d73-5678-4d68-82e4-8d9b6590046a",
   "metadata": {},
   "source": [
    "## Chapter4 Budgeting application "
   ]
  },
  {
   "cell_type": "markdown",
   "id": "1363216e-db78-4665-af85-4a508042b761",
   "metadata": {},
   "source": [
    "Salary and taxes\n",
    "You just got a new job as an entry-level Data Scientist at a technology company in New York City with a decent starting salary of $85,000 per year.\n",
    "\n",
    "Unfortunately, after state and local taxes, you can expect to be sending roughly 30% back to the government each year.\n",
    "\n",
    "You will need to calculate your monthly take home pay after taxes in order to begin budgeting."
   ]
  },
  {
   "cell_type": "code",
   "execution_count": 42,
   "id": "7c60b850-fe97-44c8-81c7-4b5d0230cde6",
   "metadata": {},
   "outputs": [
    {
     "name": "stdout",
     "output_type": "stream",
     "text": [
      "Salary after taxes: 59500.0\n",
      "Monthly takehome salary: 4958.33\n"
     ]
    }
   ],
   "source": [
    "\"\"\"\n",
    "Assume a 30% tax rate and a base salary of $85,000.\n",
    "Calculate your take home salary after taxes.\n",
    "Calculate your monthly salary after taxes (Hint: You can use simple division in this case).\n",
    "\"\"\"\n",
    "# Enter your annual salary\n",
    "salary = 85000\n",
    "\n",
    "# Assume a tax rate of 30%\n",
    "tax_rate = 0.3\n",
    "\n",
    "# Calculate your salary after taxes\n",
    "salary_after_taxes = salary * (1-tax_rate)\n",
    "print(\"Salary after taxes: \" + str(round(salary_after_taxes, 2)))\n",
    "\n",
    "# Calculate your monthly salary after taxes\n",
    "monthly_takehome_salary = salary_after_taxes/12\n",
    "print(\"Monthly takehome salary: \" + str(round(monthly_takehome_salary, 2)))"
   ]
  },
  {
   "cell_type": "code",
   "execution_count": 43,
   "id": "668e4bcb-09fc-486b-ac4b-1619a33e6ba6",
   "metadata": {},
   "outputs": [
    {
     "name": "stdout",
     "output_type": "stream",
     "text": [
      "Monthly expenses: 2550\n",
      "Monthly savings: 2408.33\n"
     ]
    }
   ],
   "source": [
    "\"\"\"\n",
    "Monthly expenses and savings\n",
    "In order to make it in New York City, you have decided to split a two-bedroom apartment with a friend. \n",
    "You will have to budget for rent, food and entertainment, but it's also a good idea to allocate an amount for unforeseen expenses each month. \n",
    "This unforeseen expenses budget could be used for anything ranging from new clothes or electronics to doctor appointments.\n",
    "\n",
    "Set up your monthly budget as follows:\n",
    "\n",
    "Rent: $1200 / month (Includes utilities)\n",
    "Food: $30 / day (On average. Includes groceries and eating out.)\n",
    "Entertainment: $200 / month (Movies, drinks, museums, parties…)\n",
    "Unforeseen Expenses: 250 / month (Stay safe, and don't drop your phone!)\n",
    "For this application, assume an average of 30 days per month. Whatever is left \n",
    "after your paying your monthly expenses will go into your savings account each month.\n",
    "\n",
    "monthly_takehome_salary from the previous exercise is available.\n",
    "\"\"\"\n",
    "# Enter your monthly rent\n",
    "monthly_rent = 1200\n",
    "\n",
    "# Enter your daily food budget\n",
    "daily_food_budget = 30\n",
    "\n",
    "# Calculate your monthly food budget assuming 30 days per month\n",
    "monthly_food_budget = 30 * 30\n",
    "\n",
    "# Set your monthly entertainment budget\n",
    "monthly_entertainment_budget = 200\n",
    "\n",
    "# Allocate funds for unforeseen expenses, just in case\n",
    "monthly_unforeseen_expenses = 250\n",
    "\n",
    "# Next, calculate your total monthly expenses\n",
    "monthly_expenses = monthly_rent + monthly_food_budget + monthly_entertainment_budget + monthly_unforeseen_expenses\n",
    "print(\"Monthly expenses: \" + str(round(monthly_expenses, 2)))\n",
    "\n",
    "# Finally, calculate your monthly take-home savings\n",
    "monthly_savings = monthly_takehome_salary - monthly_expenses\n",
    "print(\"Monthly savings: \" + str(round(monthly_savings, 2)))"
   ]
  },
  {
   "cell_type": "code",
   "execution_count": 46,
   "id": "828c977d-bc51-45d2-b5ea-1b877b8862d1",
   "metadata": {},
   "outputs": [
    {
     "data": {
      "image/png": "[encoded data removed]",
      "text/plain": [
       "<Figure size 640x480 with 1 Axes>"
      ]
     },
     "metadata": {},
     "output_type": "display_data"
    }
   ],
   "source": [
    "\"\"\"\n",
    "Forecast salary growth and cost of living\n",
    "Due to both inflation and increased productivity from experience, you can expect your salary to grow at different rates depending on your job. \n",
    "Now, since you are working in a growing and in-demand career field as a Data Scientist, you can assume a steady growth \n",
    "in your annual salary every year based on performance.\n",
    "\n",
    "You can assume an annual salary growth rate of 5%, which means if you start at $85,000 per year, \n",
    "you can expect to earn over $176,000 per year after 15 years. After taxes, assuming your tax rate hasn't changed, \n",
    "that works out to roughly $125,000 per year, which is not unreasonable for a Data Scientist. \n",
    "In fact, you might even make it to that level in a few years! But just to be safe, you should be conservative with your projections.\n",
    "\n",
    "For this application, assume all inflation and salary growth happens in smaller increments on a monthly basis \n",
    "instead of just one large increase at the end of each year.\n",
    "\n",
    "monthly_takehome_salary from the previous exercise is available.\n",
    "\"\"\"\n",
    "import numpy as np\n",
    "import matplotlib.pyplot as plt\n",
    "\n",
    "# Create monthly forecasts up to 15 years from now\n",
    "forecast_months = 12*15\n",
    "\n",
    "# Set your annual salary growth rate\n",
    "annual_salary_growth = 0.05\n",
    "\n",
    "# Calculate your equivalent monthly salary growth rate\n",
    "monthly_salary_growth = (1+annual_salary_growth)**(1/12) - 1\n",
    "\n",
    "# Forecast the cumulative growth of your salary\n",
    "cumulative_salary_growth_forecast = np.cumprod(np.repeat(1 + monthly_salary_growth, forecast_months))\n",
    "\n",
    "# Calculate the actual salary forecast\n",
    "salary_forecast = monthly_takehome_salary*cumulative_salary_growth_forecast\n",
    "\n",
    "# Plot the forecasted salary\n",
    "plt.plot(salary_forecast, color='blue')\n",
    "plt.show()"
   ]
  },
  {
   "cell_type": "markdown",
   "id": "4444c2d8-853e-4907-86d3-5c19cb630387",
   "metadata": {},
   "source": [
    "Forecast growing expenses due to inflation\n",
    "You will also assume your monthly expenses will rise by an average of 2.5% per year due to inflation. \n",
    "This will lead to higher cost of living over time, paying for the same expenses each year but at a higher price. \n",
    "Luckily, your salary is growing faster than inflation, which means you should have more money going into savings each month.\n",
    "\n",
    "The monthly_expenses and forecast_months variables from the previous exercise are available."
   ]
  },
  {
   "cell_type": "code",
   "execution_count": 47,
   "id": "769fb5a6-0dc9-4f10-9615-a98904833fb8",
   "metadata": {},
   "outputs": [
    {
     "data": {
      "image/png": "[encoded data removed]",
      "text/plain": [
       "<Figure size 640x480 with 1 Axes>"
      ]
     },
     "metadata": {},
     "output_type": "display_data"
    }
   ],
   "source": [
    "import numpy as np\n",
    "\n",
    "# Set the annual inflation rate\n",
    "annual_inflation = 0.025\n",
    "# Calculate the equivalent monthly inflation rate\n",
    "monthly_inflation = (1+annual_inflation)**(1/12) - 1\n",
    "\n",
    "# Forecast cumulative inflation over time\n",
    "cumulative_inflation_forecast = np.cumprod(np.repeat(1+monthly_inflation, forecast_months))\n",
    "\n",
    "# Calculate your forecasted expenses\n",
    "expenses_forecast = monthly_expenses * cumulative_inflation_forecast\n",
    "\n",
    "# Plot the forecasted expenses\n",
    "plt.plot(expenses_forecast, color='red')\n",
    "plt.show()"
   ]
  },
  {
   "cell_type": "code",
   "execution_count": 50,
   "id": "24757488-7382-4d00-a3bf-468bf95d483d",
   "metadata": {},
   "outputs": [
    {
     "name": "stdout",
     "output_type": "stream",
     "text": [
      "Your final net worth: 762318.83\n"
     ]
    },
    {
     "data": {
      "image/png": "[encoded data removed]",
      "text/plain": [
       "<Figure size 640x480 with 1 Axes>"
      ]
     },
     "metadata": {},
     "output_type": "display_data"
    }
   ],
   "source": [
    "\"\"\"\n",
    "Calculate your net worth\n",
    "Now that you have forecasted your savings and salary over time while taking career progression and inflation into account, \n",
    "you have constructed a time-series which you can use to calculate your cash flows, just like in Chapter 1.\n",
    "\n",
    "For this example, all you need to do is subtract your forecasted monthly expenses from your forecasted monthly salary. \n",
    "The remaining cash flow will go straight into your savings account for each month.\n",
    "\n",
    "You want to project your cumulative savings over time to see how effective your budgeting process will be given your projections.\n",
    "\n",
    "salary_forecast and expenses_forecast from the previous exercises are available.\n",
    "\"\"\"\n",
    "import numpy as np\n",
    "\n",
    "# Calculate your savings for each month\n",
    "savings_forecast = salary_forecast - expenses_forecast\n",
    "\n",
    "# Calculate your cumulative savings over time\n",
    "cumulative_savings = np.cumsum(savings_forecast)\n",
    "#print(cumulative_savings)\n",
    "\n",
    "# Print the final cumulative savings after 15 years\n",
    "final_net_worth = cumulative_savings[-1]\n",
    "print(\"Your final net worth: \" + str(round(final_net_worth, 2)))\n",
    "\n",
    "# Plot the forecasted savings\n",
    "plt.plot(cumulative_savings, color='blue')\n",
    "plt.show()\n",
    "\n"
   ]
  },
  {
   "cell_type": "code",
   "execution_count": 53,
   "id": "489d2a41-dd16-4a8d-9544-8474e495bdb3",
   "metadata": {},
   "outputs": [
    {
     "name": "stdout",
     "output_type": "stream",
     "text": [
      "You will have to invest $3214.35 per month to amass $1M over 15 years\n"
     ]
    }
   ],
   "source": [
    "\"\"\"\n",
    "So you want to be a millionaire?\n",
    "Your projections show that you can accumulate over $700,000 in just 15 years by following a strict budget and growing your salary steadily over time.\n",
    "\n",
    "But you want to be a millionaire in 15 years, retire young, sip margaritas and travel for the rest of your life. \n",
    "In order to do that, you're going to need to invest.\n",
    "\n",
    "Remember the .pmt() function from numpy? You can use this function to calculate how much you need to save each month \n",
    "in order to accumulate your desired wealth over time.\n",
    "\n",
    "You still have a lot to learn about the stock market, but your financial advisor told you that you can earn anywhere \n",
    "from 5-10% per year on your capital on average by investing in a low cost index fund.\n",
    "\n",
    "You know that the stock market doesn't always go up, but you will assume a modest 7% return per year, \n",
    "which has been the average annual return in the US stock market from 1950-2009.\n",
    "\n",
    "The forecast_months variable from the previous exercise is available.\n",
    "\"\"\"\n",
    "import numpy_financial as npf\n",
    "\n",
    "# Set the annual investment return to 7%\n",
    "investment_rate_annual = 0.07\n",
    "\n",
    "# Calculate the monthly investment return\n",
    "investment_rate_monthly = (1+investment_rate_annual)**(1/12) - 1\n",
    "\n",
    "# Calculate your required monthly investment to amass $1M\n",
    "required_investment_monthly = npf.pmt(rate=investment_rate_monthly, nper=15*12, pv=0, fv=-1000000) \n",
    "# taking 1 million of future into present by periodic payment\n",
    "print(\"You will have to invest $\" + str(round(required_investment_monthly, 2)) + \" per month to amass $1M over 15 years\")"
   ]
  },
  {
   "cell_type": "code",
   "execution_count": 64,
   "id": "765bb9a1-6be6-4315-9c25-d767d9716ea9",
   "metadata": {},
   "outputs": [
    {
     "name": "stdout",
     "output_type": "stream",
     "text": [
      "cash_flow_forecast [2423.27826769 2438.29801669 2453.38956001 2468.55321198 2483.78928828\n",
      " 2499.0981059  2514.47998316 2529.93523974 2545.46419666 2561.06717629\n",
      " 2576.74450237 2592.4965     2608.32349564 2624.22581713 2640.20379371\n",
      " 2656.25775598 2672.38803595 2688.59496702 2704.87888401 2721.24012312\n",
      " 2737.67902201 2754.19591972 2770.79115674 2787.465075   2804.21801785\n",
      " 2821.05033009 2837.96235799 2854.95444926 2872.02695308 2889.1802201\n",
      " 2906.41460244 2923.73045372 2941.12812902 2958.60798494 2976.17037957\n",
      " 2993.8156725  3011.54422485 3029.35639925 3047.25255985 3065.23307234\n",
      " 3083.29830395 3101.44862345 3119.68440115 3138.00600895 3156.41382027\n",
      " 3174.90821015 3193.48955515 3212.15823347 3230.91462486 3249.75911068\n",
      " 3268.6920739  3287.7138991  3306.82497245 3326.02568177 3345.31641652\n",
      " 3364.69756776 3384.16952821 3403.73269226 3423.38745593 3443.13421692\n",
      " 3462.97337459 3482.90532997 3502.93048581 3523.04924651 3543.2620182\n",
      " 3563.5692087  3583.97122753 3604.46848596 3625.06139697 3645.75037528\n",
      " 3666.53583733 3687.41820134 3708.39788726 3729.47531682 3750.65091352\n",
      " 3771.92510261 3793.29831117 3814.77096803 3836.34350385 3858.01635108\n",
      " 3879.78994398 3901.66471865 3923.64111301 3945.71956682 3967.90052167\n",
      " 3990.18442102 4012.5717102  4035.06283636 4057.65824859 4080.35839781\n",
      " 4103.16373686 4126.07472047 4149.09180527 4172.21544981 4195.44611457\n",
      " 4218.78426195 4242.2303563  4265.78486389 4289.44825298 4313.22099377\n",
      " 4337.10355843 4361.09642111 4385.20005797 4409.41494712 4433.74156872\n",
      " 4458.18040491 4482.73193986 4507.39665977 4532.17505287 4557.06760945\n",
      " 4582.07482184 4607.19718443 4632.43519369 4657.78934816 4683.26014848\n",
      " 4708.84809737 4734.55369967 4760.37746232 4786.31989439 4812.38150709\n",
      " 4838.56281374 4864.86432985 4891.28657305 4917.83006315 4944.49532215\n",
      " 4971.28287422 4998.19324572 5025.22696521 5052.38456349 5079.66657354\n",
      " 5107.0735306  5134.60597214 5162.26443786 5190.04946976 5217.96161207\n",
      " 5246.0014113  5274.16941625 5302.46617804 5330.89225006 5359.44818802\n",
      " 5388.13454996 5416.95189627 5445.90078965 5474.98179518 5504.19548028\n",
      " 5533.54241476 5563.02317079 5592.63832297 5622.38844826 5652.27412606\n",
      " 5682.29593816 5712.45446882 5742.75030472 5773.18403499 5803.75625122\n",
      " 5834.46754748 5865.31852032 5896.30976879 5927.44189441 5958.71550126\n",
      " 5990.1311959  6021.68958745 6053.39128757 6085.23691046 6117.2270729\n",
      " 6149.36239424 6181.64349642 6214.07100397 6246.64554402 6279.36774635\n",
      " 6312.23824334 6345.25767001 6378.42666405 6411.74586579 6445.21591825\n",
      " 6478.83746713 6512.61116081 6546.53765039 6580.61758969 6614.85163525]\n"
     ]
    },
    {
     "ename": "NameError",
     "evalue": "name 'investments_plot' is not defined",
     "output_type": "error",
     "traceback": [
      "\u001b[1;31m---------------------------------------------------------------------------\u001b[0m",
      "\u001b[1;31mNameError\u001b[0m                                 Traceback (most recent call last)",
      "Cell \u001b[1;32mIn[64], line 63\u001b[0m\n\u001b[0;32m     61\u001b[0m plt\u001b[38;5;241m.\u001b[39mplot(investment_deposit_forecast, color\u001b[38;5;241m=\u001b[39m\u001b[38;5;124m'\u001b[39m\u001b[38;5;124mred\u001b[39m\u001b[38;5;124m'\u001b[39m)\n\u001b[0;32m     62\u001b[0m plt\u001b[38;5;241m.\u001b[39mplot(savings_forecast_new, color\u001b[38;5;241m=\u001b[39m\u001b[38;5;124m'\u001b[39m\u001b[38;5;124mblue\u001b[39m\u001b[38;5;124m'\u001b[39m)\n\u001b[1;32m---> 63\u001b[0m plt\u001b[38;5;241m.\u001b[39mlegend(handles\u001b[38;5;241m=\u001b[39m[\u001b[43minvestments_plot\u001b[49m, savings_plot], loc\u001b[38;5;241m=\u001b[39m\u001b[38;5;241m2\u001b[39m)\n\u001b[0;32m     64\u001b[0m plt\u001b[38;5;241m.\u001b[39mshow()\n",
      "\u001b[1;31mNameError\u001b[0m: name 'investments_plot' is not defined"
     ]
    },
    {
     "data": {
      "image/png": "[encoded data removed]",
      "text/plain": [
       "<Figure size 640x480 with 1 Axes>"
      ]
     },
     "metadata": {},
     "output_type": "display_data"
    }
   ],
   "source": [
    "import numpy as np\n",
    "import matplotlib.pyplot as plt\n",
    "\n",
    "monthly_investment_percentage = 0.30\n",
    "\n",
    "# Your cash flow forecast values \n",
    "cash_flow_forecast_values = [\n",
    "    2423.27826769, 2438.29801669, 2453.38956001, 2468.55321198, 2483.78928828,\n",
    "    2499.0981059, 2514.47998316, 2529.93523974, 2545.46419666, 2561.06717629,\n",
    "    2576.74450237, 2592.4965, 2608.32349564, 2624.22581713, 2640.20379371,\n",
    "    2656.25775598, 2672.38803595, 2688.59496702, 2704.87888401, 2721.24012312,\n",
    "    2737.67902201, 2754.19591972, 2770.79115674, 2787.465075, 2804.21801785,\n",
    "    2821.05033009, 2837.96235799, 2854.95444926, 2872.02695308, 2889.1802201,\n",
    "    2906.41460244, 2923.73045372, 2941.12812902, 2958.60798494, 2976.17037957,\n",
    "    2993.8156725, 3011.54422485, 3029.35639925, 3047.25255985, 3065.23307234,\n",
    "    3083.29830395, 3101.44862345, 3119.68440115, 3138.00600895, 3156.41382027,\n",
    "    3174.90821015, 3193.48955515, 3212.15823347, 3230.91462486, 3249.75911068,\n",
    "    3268.6920739, 3287.7138991, 3306.82497245, 3326.02568177, 3345.31641652,\n",
    "    3364.69756776, 3384.16952821, 3403.73269226, 3423.38745593, 3443.13421692,\n",
    "    3462.97337459, 3482.90532997, 3502.93048581, 3523.04924651, 3543.2620182,\n",
    "    3563.5692087, 3583.97122753, 3604.46848596, 3625.06139697, 3645.75037528,\n",
    "    3666.53583733, 3687.41820134, 3708.39788726, 3729.47531682, 3750.65091352,\n",
    "    3771.92510261, 3793.29831117, 3814.77096803, 3836.34350385, 3858.01635108,\n",
    "    3879.78994398, 3901.66471865, 3923.64111301, 3945.71956682, 3967.90052167,\n",
    "    3990.18442102, 4012.5717102, 4035.06283636, 4057.65824859, 4080.35839781,\n",
    "    4103.16373686, 4126.07472047, 4149.09180527, 4172.21544981, 4195.44611457,\n",
    "    4218.78426195, 4242.2303563, 4265.78486389, 4289.44825298, 4313.22099377,\n",
    "    4337.10355843, 4361.09642111, 4385.20005797, 4409.41494712, 4433.74156872,\n",
    "    4458.18040491, 4482.73193986, 4507.39665977, 4532.17505287, 4557.06760945,\n",
    "    4582.07482184, 4607.19718443, 4632.43519369, 4657.78934816, 4683.26014848,\n",
    "    4708.84809737, 4734.55369967, 4760.37746232, 4786.31989439, 4812.38150709,\n",
    "    4838.56281374, 4864.86432985, 4891.28657305, 4917.83006315, 4944.49532215,\n",
    "    4971.28287422, 4998.19324572, 5025.22696521, 5052.38456349, 5079.66657354,\n",
    "    5107.0735306, 5134.60597214, 5162.26443786, 5190.04946976, 5217.96161207,\n",
    "    5246.0014113, 5274.16941625, 5302.46617804, 5330.89225006, 5359.44818802,\n",
    "    5388.13454996, 5416.95189627, 5445.90078965, 5474.98179518, 5504.19548028,\n",
    "    5533.54241476, 5563.02317079, 5592.63832297, 5622.38844826, 5652.27412606,\n",
    "    5682.29593816, 5712.45446882, 5742.75030472, 5773.18403499, 5803.75625122,\n",
    "    5834.46754748, 5865.31852032, 5896.30976879, 5927.44189441, 5958.71550126,\n",
    "    5990.1311959, 6021.68958745, 6053.39128757, 6085.23691046, 6117.2270729,\n",
    "    6149.36239424, 6181.64349642, 6214.07100397, 6246.64554402, 6279.36774635,\n",
    "    6312.23824334, 6345.25767001, 6378.42666405, 6411.74586579, 6445.21591825,\n",
    "    6478.83746713, 6512.61116081, 6546.53765039, 6580.61758969, 6614.85163525\n",
    "]\n",
    "\n",
    "# Convert the list to a NumPy array\n",
    "cash_flow_forecast = np.array(cash_flow_forecast_values)\n",
    "\n",
    "\n",
    "# Calculate your monthly deposit into your investment account\n",
    "investment_deposit_forecast = monthly_investment_percentage * cash_flow_forecast\n",
    "\n",
    "# The rest goes into your savings account\n",
    "savings_forecast_new = cash_flow_forecast - investment_deposit_forecast\n",
    "\n",
    "# Calculate your cumulative savings over time\n",
    "cumulative_savings_new = np.cumsum(savings_forecast_new)\n",
    "print(\"cash_flow_forecast\",cash_flow_forecast)\n",
    "\n",
    "# Plot your forecasted monthly savings vs investments\n",
    "plt.plot(investment_deposit_forecast, color='red')\n",
    "plt.plot(savings_forecast_new, color='blue')\n",
    "plt.legend(handles=[investments_plot, savings_plot], loc=2)\n",
    "plt.show()"
   ]
  },
  {
   "cell_type": "code",
   "execution_count": null,
   "id": "f8f833f7-7b6f-4918-87bb-fe0707682dd7",
   "metadata": {},
   "outputs": [],
   "source": [
    "\"\"\"\n",
    "Investing a percentage of your income (II)\n",
    "To finish up your investment simulation, you will need to loop through each time period, calculate the growth of any investments you have already made, \n",
    "add your new monthly deposit, and calculate your net worth at each point in time.\n",
    "\n",
    "You can do it!\n",
    "\n",
    "Cumulative savings (cumulative_savings_new) from the previous exercise is available, and investment_portfolio and \n",
    "net_worth are pre-allocated empty numpy arrays of length equal to forecast_months.\n",
    "\"\"\"\n"
   ]
  },
  {
   "cell_type": "code",
   "execution_count": 66,
   "id": "a5c3a0e5-4316-4d6b-ae8f-f9cf781f204c",
   "metadata": {},
   "outputs": [
    {
     "data": {
      "image/png": "[encoded data removed]",
      "text/plain": [
       "<Figure size 640x480 with 1 Axes>"
      ]
     },
     "metadata": {},
     "output_type": "display_data"
    }
   ],
   "source": [
    "import numpy as np\n",
    "import matplotlib.pyplot as plt\n",
    "\n",
    "# Assuming cumulative_savings_new is a single value\n",
    "cumulative_savings_array = np.full(forecast_months, cumulative_savings_new) # self made\n",
    "\n",
    "# Initialize investment_portfolio and net_worth arrays\n",
    "investment_portfolio = np.zeros(forecast_months) #self made\n",
    "net_worth = np.zeros(forecast_months) #self made\n",
    "\n",
    "# Loop through each forecast period\n",
    "for i in range(forecast_months):\n",
    "    # Find the previous investment deposit amount\n",
    "    if i == 0:\n",
    "        previous_investment = 0  # You might want to set an initial value here\n",
    "    else:\n",
    "        previous_investment = investment_portfolio[i - 1]\n",
    "\n",
    "    # Calculate the value of your previous investments, which have grown\n",
    "    previous_investment_growth = previous_investment * (1 + investment_rate_monthly)\n",
    "\n",
    "    # Add your new deposit to your investment portfolio\n",
    "    investment_portfolio[i] = previous_investment_growth + investment_deposit_forecast[i]\n",
    "\n",
    "    # Calculate your net worth at each point in time\n",
    "    net_worth[i] = cumulative_savings_array[i] + investment_portfolio[i]\n",
    "\n",
    "# Plot your forecasted cumulative savings vs investments and net worth\n",
    "plt.plot(investment_portfolio, label='Investment Portfolio')\n",
    "plt.plot(cumulative_savings_array, label='Cumulative Savings')\n",
    "plt.plot(net_worth, label='Net Worth')\n",
    "plt.legend()\n",
    "plt.show()\n"
   ]
  },
  {
   "cell_type": "code",
   "execution_count": 69,
   "id": "2e476b8d-e14b-40b4-bb7a-5115169c161d",
   "metadata": {},
   "outputs": [
    {
     "name": "stdout",
     "output_type": "stream",
     "text": [
      "-3214.351338524575\n",
      "-855.1009225937204\n"
     ]
    }
   ],
   "source": [
    "### Investing over time\n",
    "#### If you would like to accumulate $1,000,000 over 15 years, at 7% per year, you will have to invest $3214.35 per month:\n",
    "\n",
    "import numpy_financial as npf\n",
    "needed_money = npf.pmt(rate=((1+0.07)**(1/12) - 1), nper=15*12, pv=0, fv=1000000)\n",
    "print(needed_money)\n",
    "#But what if you were willing to wait an extra 15 years, for a total of 30 years? How much will you need to invest each month?\n",
    "\n",
    "new_needed_money = npf.pmt(rate=((1+0.07)**(1/12) - 1), nper=30*12, pv=0, fv=1000000)\n",
    "print(new_needed_money)"
   ]
  },
  {
   "cell_type": "code",
   "execution_count": 1,
   "id": "0abb49b7-dd0d-4d61-a836-389bb3a67d1e",
   "metadata": {},
   "outputs": [
    {
     "name": "stdout",
     "output_type": "stream",
     "text": [
      "Your inflation-adjusted net worth: $621419.0\n"
     ]
    }
   ],
   "source": [
    "\"\"\"\n",
    "Inflation-adjusted net worth\n",
    "By saving 30% per year, your simulation shows that you can accumulate $896,962.66. Not quite a millionaire, but not bad at all!\n",
    "\n",
    "For the sake of simplicity, let's assume you were able to save $900,000 by following your budget.\n",
    "\n",
    "But what if you retire 15 years from now? What is $900,000 going to be truly worth 15 years from now?\n",
    "\"\"\"\n",
    "import numpy_financial as npf\n",
    "\n",
    "# Set your future net worth\n",
    "future_net_worth = 900000\n",
    "# Set the annual inflation rate to 2.5%\n",
    "annual_inflation = 0.025\n",
    "\n",
    "# Calculate the present value of your terminal wealth over 15 years\n",
    "inflation_adjusted_net_worth = npf.pv(rate=annual_inflation, nper=15, pmt=0, fv=-1*future_net_worth)\n",
    "print(\"Your inflation-adjusted net worth: $\" + str(round(inflation_adjusted_net_worth, 2)))"
   ]
  }
 ],
 "metadata": {
  "kernelspec": {
   "display_name": "Python 3 (ipykernel)",
   "language": "python",
   "name": "python3"
  },
  "language_info": {
   "codemirror_mode": {
    "name": "ipython",
    "version": 3
   },
   "file_extension": ".py",
   "mimetype": "text/x-python",
   "name": "python",
   "nbconvert_exporter": "python",
   "pygments_lexer": "ipython3",
   "version": "3.11.5"
  }
 },
 "nbformat": 4,
 "nbformat_minor": 5
}
