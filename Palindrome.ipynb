{
 "cells": [
  {
   "cell_type": "code",
   "execution_count": 33,
   "id": "b2815ac0-1df4-4b82-9f2a-6c169355db4b",
   "metadata": {},
   "outputs": [
    {
     "name": "stdout",
     "output_type": "stream",
     "text": [
      "this is for result:  True\n",
      "this is for result1:  True\n",
      "this is for result3:  True\n",
      "this is for result3:  False\n",
      "this is for result_3:  False\n"
     ]
    }
   ],
   "source": [
    "def pali_checker(word):\n",
    "    left = 0\n",
    "    right = len(word)- 1\n",
    "    while left < right:\n",
    "        if word[left] != word[right]:\n",
    "            return False\n",
    "        left += 1\n",
    "        right -= 1\n",
    "        return True  \n",
    "        \n",
    "def ialphanumeric_palindrome(word): \n",
    "    clean_string = \"\"  \n",
    "    for i in word:\n",
    "        if i.isalnum():  # checking whether it's a letter or number\n",
    "            clean_string = clean_string + i.lower()\n",
    "\n",
    "    left = 0\n",
    "    right = len(clean_string) - 1\n",
    "\n",
    "    while left < right:\n",
    "        if clean_string[left] != clean_string[right]:\n",
    "            return False\n",
    "        left += 1\n",
    "        right -= 1\n",
    "\n",
    "    return True\n",
    "\n",
    "\n",
    "# testing\n",
    "my_string = \"deed\"\n",
    "result = pali_checker(my_string)\n",
    "print(\"this is for result: \", result)\n",
    "\n",
    "my_string1 = \"racecar\"\n",
    "result1 = pali_checker(my_string1)\n",
    "print(\"this is for result1: \", result1)\n",
    "\n",
    "my_string2 = \"A man, a plan, a canal: Panama\"\n",
    "result2 = ialphanumeric_palindrome(my_string2)\n",
    "print(\"this is for result3: \", result2)\n",
    "\n",
    "my_string3 = \"htut\"\n",
    "result3 = pali_checker(my_string3)\n",
    "print(\"this is for result3: \", result3)\n",
    "\n",
    "result_3 = ialphanumeric_palindrome(my_string3)\n",
    "print(\"this is for result_3: \", result_3)"
   ]
  }
 ],
 "metadata": {
  "kernelspec": {
   "display_name": "Python 3 (ipykernel)",
   "language": "python",
   "name": "python3"
  },
  "language_info": {
   "codemirror_mode": {
    "name": "ipython",
    "version": 3
   },
   "file_extension": ".py",
   "mimetype": "text/x-python",
   "name": "python",
   "nbconvert_exporter": "python",
   "pygments_lexer": "ipython3",
   "version": "3.11.5"
  }
 },
 "nbformat": 4,
 "nbformat_minor": 5
}
